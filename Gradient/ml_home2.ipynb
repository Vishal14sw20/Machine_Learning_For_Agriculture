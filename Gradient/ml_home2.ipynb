{
 "cells": [
  {
   "cell_type": "code",
   "execution_count": 2,
   "metadata": {},
   "outputs": [],
   "source": [
    "import numpy as np\n",
    "import matplotlib.pyplot as plt"
   ]
  },
  {
   "cell_type": "code",
   "execution_count": 6,
   "metadata": {},
   "outputs": [
    {
     "name": "stdout",
     "output_type": "stream",
     "text": [
      "[[1.  2.  1.5]\n",
      " [1.2 0.7 1.7]]\n"
     ]
    }
   ],
   "source": [
    "X = np.random.normal(size=(20,2))\n",
    "w_true = np.array([1,2,1.5,1.2,0.7,1.7]).reshape(2,3)\n",
    "y = np.matmul(X,w)\n",
    "y_true = np.argmax(y,axis=1)\n",
    "shape = (y_true.size,y_true.max()+1)\n",
    "one_hot = np.zeros(shape)\n",
    "rows = np.arange(y_true.size)\n",
    "one_hot[rows,y_true] = 1\n",
    "print(w_true)"
   ]
  },
  {
   "cell_type": "code",
   "execution_count": 5,
   "metadata": {},
   "outputs": [],
   "source": [
    "lr = 0.001\n",
    "w = np.array([0.8,1.7,1.2,1,1,1.5]).reshape(2,3)\n",
    "cost_list = []"
   ]
  },
  {
   "cell_type": "code",
   "execution_count": 316,
   "metadata": {},
   "outputs": [],
   "source": [
    "def gd_func(X,w,y):\n",
    "    z = X.dot(w)\n",
    "    smax = (np.exp(z.T) / np.sum(np.exp(z), axis=1)).T\n",
    "    dy = (y - smax)\n",
    "    cross_entropy = - np.sum(np.log(smax) * (y), axis=1)\n",
    "    cost = np.mean(cross_entropy)\n",
    "    cost_list.append(cost)\n",
    "    return dy"
   ]
  },
  {
   "cell_type": "code",
   "execution_count": 365,
   "metadata": {},
   "outputs": [
    {
     "name": "stdout",
     "output_type": "stream",
     "text": [
      "[[0.23594884 2.08159606 1.38245509]\n",
      " [0.38926322 0.86233036 2.24840642]]\n"
     ]
    }
   ],
   "source": [
    "epoch = 100\n",
    "weight_list = []\n",
    "for i in range(epoch):\n",
    "    g = gd_func(X,w,one_hot)\n",
    "    dd= np.dot(X.transpose(),g)\n",
    "    w = w + lr*(np.dot(X.transpose(),g)/X.shape[0])\n",
    "    weight_list.append(w)\n",
    "print(w)"
   ]
  },
  {
   "cell_type": "code",
   "execution_count": 301,
   "metadata": {},
   "outputs": [
    {
     "data": {
      "text/plain": [
       "Text(0, 0.5, 'cost')"
      ]
     },
     "execution_count": 301,
     "metadata": {},
     "output_type": "execute_result"
    },
    {
     "data": {
      "image/png": "[encoded data removed]",
      "text/plain": [
       "<Figure size 432x288 with 1 Axes>"
      ]
     },
     "metadata": {
      "needs_background": "light"
     },
     "output_type": "display_data"
    }
   ],
   "source": [
    "plt.scatter(list(range(1,101)), cost_list)\n",
    "plt.xlabel('Epoch')\n",
    "plt.ylabel('cost')"
   ]
  },
  {
   "cell_type": "code",
   "execution_count": 119,
   "metadata": {},
   "outputs": [
    {
     "name": "stdout",
     "output_type": "stream",
     "text": [
      "[[1.  2.  1.5]\n",
      " [1.2 0.7 1.7]]\n"
     ]
    }
   ],
   "source": [
    "# def sgd_func(x,w,y):\n",
    "#     wx = np.dot(x,w)\n",
    "#     f = lambda x: np.exp(x)\n",
    "#     wix = np.dot(y,wx)\n",
    "#     pr = (y - (np.exp(wix)/np.sum(f(wx))))\n",
    "#     pr= pr.reshape(pr.size,1)\n",
    "#     xt = x.transpose()\n",
    "#     xt = xt.reshape(xt.size,1).transpose()\n",
    "#     g = np.dot(pr,xt)\n",
    "#     return g"
   ]
  },
  {
   "cell_type": "code",
   "execution_count": 116,
   "metadata": {},
   "outputs": [
    {
     "name": "stdout",
     "output_type": "stream",
     "text": [
      "[[-5.1362791   9.01382202 -1.32265089]\n",
      " [-5.46854156 -2.50711133  9.20248937]]\n"
     ]
    }
   ],
   "source": [
    "\n",
    "# for j in range(100):\n",
    "#     for i in range(X.shape[0]):\n",
    "#         x = X[i]\n",
    "#         y_t = one_hot[i]\n",
    "#         ll = lr * sgd_func(x,w,y_t)\n",
    "#         w = w + ll.transpose()\n",
    "# print(w)"
   ]
  },
  {
   "cell_type": "code",
   "execution_count": 26,
   "metadata": {},
   "outputs": [],
   "source": []
  },
  {
   "cell_type": "code",
   "execution_count": null,
   "metadata": {},
   "outputs": [],
   "source": []
  },
  {
   "cell_type": "code",
   "execution_count": null,
   "metadata": {},
   "outputs": [],
   "source": []
  }
 ],
 "metadata": {
  "kernelspec": {
   "display_name": "Python 3",
   "language": "python",
   "name": "python3"
  },
  "language_info": {
   "codemirror_mode": {
    "name": "ipython",
    "version": 3
   },
   "file_extension": ".py",
   "mimetype": "text/x-python",
   "name": "python",
   "nbconvert_exporter": "python",
   "pygments_lexer": "ipython3",
   "version": "3.7.3"
  }
 },
 "nbformat": 4,
 "nbformat_minor": 4
}