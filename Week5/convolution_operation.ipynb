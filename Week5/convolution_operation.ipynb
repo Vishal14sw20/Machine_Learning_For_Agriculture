{
 "cells": [
  {
   "cell_type": "code",
   "execution_count": 2,
   "metadata": {
    "collapsed": true
   },
   "outputs": [],
   "source": [
    "import numpy as np"
   ]
  },
  {
   "cell_type": "code",
   "execution_count": 3,
   "metadata": {
    "pycharm": {
     "name": "#%%\n"
    }
   },
   "outputs": [
    {
     "data": {
      "text/plain": "array([[[ 5., 10.],\n        [ 9.,  6.]]])"
     },
     "execution_count": 3,
     "metadata": {},
     "output_type": "execute_result"
    }
   ],
   "source": [
    "# for testing result\n",
    "\"\"\"input_img = np.array([[[ 1,  2 ,  3.],\n",
    "        [4.,  5., 6.],\n",
    "        [ 7.,  8.,  9.]],\n",
    "\n",
    "       [[11., 22.,  33.],\n",
    "        [44., 55., 66.],\n",
    "        [ 77.,  88., 99.]]])\n",
    "input_filter = np.array([[[ 1,  2 ],\n",
    "        [4.,  5.]],\n",
    "\n",
    "       [[2, 1],\n",
    "        [4., 5]]]) \"\"\"\n",
    "# output should be\n",
    "#  [[[ 471.  615.]\n",
    " # [ 903. 1047.]]]\n",
    "\n",
    "\n",
    "# k_dim is filter dimension\n",
    "def convolution_operation(img_dim=4,k_dim=3,channels=2,padding=False):\n",
    "    # try to create dynamic padding\n",
    "    # if k=3 then we need pad_width= 1 to get same dimension output\n",
    "    # but if k = 5 then we need pad_width=2 to get same dimension output, and so on\n",
    "    margin_of_zeros = int(k_dim/2)\n",
    "    # randomly generate img and filter of given size\n",
    "    input_img=np.random.randn(channels,img_dim,img_dim)\n",
    "    input_filter=np.random.randn(channels,k_dim,k_dim)\n",
    "\n",
    "\n",
    "    input_img = np.array([[[ 1,  0 ,  0],\n",
    "        [1,  1, 0],\n",
    "        [ 0,  1,  0]],\n",
    "\n",
    "       [[1, 0,  2],\n",
    "        [1, 2, 0],\n",
    "        [ 2,  1, 2]]])\n",
    "    input_filter = np.array([[[ 0,  0 ],\n",
    "        [2,  0]],\n",
    "\n",
    "       [[1, 2],\n",
    "        [2, 0]]])\n",
    "\n",
    "    if padding:\n",
    "        # result dim will be same as img dimension apart from channel\n",
    "        result_dim = img_dim-k_dim+1+(2*margin_of_zeros)\n",
    "    else:\n",
    "        result_dim = img_dim-k_dim+1\n",
    "    # no of channels is equal to number of filters here we have only one filter that's why\n",
    "    # result has one channel\n",
    "    result= np.zeros((1,result_dim,result_dim))\n",
    "    for channel in range(channels):\n",
    "        # img per channel\n",
    "        img = input_img[channel,:,:]\n",
    "        if padding:\n",
    "            # i just padded with zeros on length and width\n",
    "            img = np.pad(img,pad_width=margin_of_zeros)\n",
    "        # because img and filter should have same no of channels\n",
    "        k  = input_filter[channel,:,:]\n",
    "        for i in range(result_dim):\n",
    "            for j in range(result_dim):\n",
    "                # crop image and filter should have same size\n",
    "                crop_img=img[i:k_dim+i,j:k_dim+j]\n",
    "                sum =0\n",
    "                for ik in range(crop_img.shape[0]):\n",
    "                    for jk in range(k_dim):\n",
    "                        sum+=crop_img[ik,jk]*k[ik,jk]\n",
    "                result[0,i,j] += sum\n",
    "    return result\n",
    "\n",
    "# k usually uneven\n",
    "#convolution_operation(4,3,padding=False)\n",
    "convolution_operation(3,2,padding=False)"
   ]
  },
  {
   "cell_type": "code",
   "execution_count": 9,
   "metadata": {
    "pycharm": {
     "name": "#%%\n"
    }
   },
   "outputs": [
    {
     "data": {
      "text/plain": "array([[[6.5]]])"
     },
     "execution_count": 9,
     "metadata": {},
     "output_type": "execute_result"
    }
   ],
   "source": [
    "def pooling(conv_result,kernal_size=2,stride=2):\n",
    "    # height and width is same in this case\n",
    "    height = conv_result.shape[1]\n",
    "    new_height = int(height/stride)\n",
    "    result_p = np.zeros((1,new_height,new_height))\n",
    "    for i in range(new_height):\n",
    "        for j in range(new_height):\n",
    "            # in crop img we get length and width of matrix\n",
    "            # kernal is is size of matrix to be croped and stride is moving rate\n",
    "            # example for k=2,s=2.\n",
    "            # [0:2,0:2] , [0:2,2:4], [2:4,0:2] , [2:4,2:4],\n",
    "            crop_img = conv_result[0,i*stride:kernal_size+(i*stride),j*stride:kernal_size+(j*stride)]\n",
    "            result_p[0,i,j] = np.mean(crop_img)\n",
    "    return result_p\n",
    "output= convolution_operation(3,2)\n",
    "pooling(output,2,2)"
   ]
  },
  {
   "cell_type": "code",
   "execution_count": 18,
   "outputs": [],
   "source": [],
   "metadata": {
    "collapsed": false,
    "pycharm": {
     "name": "#%%\n"
    }
   }
  }
 ],
 "metadata": {
  "kernelspec": {
   "display_name": "Python 3",
   "language": "python",
   "name": "python3"
  },
  "language_info": {
   "codemirror_mode": {
    "name": "ipython",
    "version": 3
   },
   "file_extension": ".py",
   "mimetype": "text/x-python",
   "name": "python",
   "nbconvert_exporter": "python",
   "pygments_lexer": "ipython3",
   "version": "3.6.9"
  }
 },
 "nbformat": 4,
 "nbformat_minor": 1
}